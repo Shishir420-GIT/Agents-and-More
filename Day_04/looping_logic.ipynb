{
 "cells": [
  {
   "cell_type": "code",
   "execution_count": 129,
   "id": "0f2d9742",
   "metadata": {},
   "outputs": [],
   "source": [
    "from typing import TypedDict, List\n",
    "from langgraph.graph import StateGraph, START, END\n",
    "import random"
   ]
  },
  {
   "cell_type": "code",
   "execution_count": 138,
   "id": "de4161bf",
   "metadata": {},
   "outputs": [],
   "source": [
    "class AgentState(TypedDict):\n",
    "    playerName: str\n",
    "    guesses: List[int]\n",
    "    attempts: int = 7\n",
    "    lower_bound: int\n",
    "    upper_bound: int\n",
    "    guessed_number: int\n",
    "    message: str"
   ]
  },
  {
   "cell_type": "code",
   "execution_count": 139,
   "id": "6ab79634",
   "metadata": {},
   "outputs": [],
   "source": [
    "def setup_node(state: AgentState) -> AgentState:\n",
    "    state['playerName'] = state[\"playerName\"]\n",
    "    state['guesses'] = []\n",
    "    state['attempts'] = 0\n",
    "    state['lower_bound'] = 0\n",
    "    state['upper_bound'] = 50\n",
    "    state[\"guessed_number\"] = random.randint(0, 50)\n",
    "    state[\"message\"] = f\"Welcome {state['playerName']}! Let's play a guessing game. You have 7 attempts to guess the number I'm thinking of between {state['lower_bound']} and {state['upper_bound']}.\"\n",
    "    print(state[\"message\"])\n",
    "    return state"
   ]
  },
  {
   "cell_type": "code",
   "execution_count": 140,
   "id": "7bb4b180",
   "metadata": {},
   "outputs": [],
   "source": [
    "def guess_number(state: AgentState) -> AgentState:\n",
    "    possible_guesses = [i for i in range(state['lower_bound'], state['upper_bound'] + 1) if i not in state['guesses']]\n",
    "    if not possible_guesses:\n",
    "        guess = random.randint(state['lower_bound'], state['upper_bound'])\n",
    "    else:\n",
    "        guess = random.choice(possible_guesses)\n",
    "    \n",
    "    state['guesses'].append(guess)\n",
    "    state['attempts'] += 1\n",
    "    # print(f\"{state['playerName']} guessed: {state['guessed_num']}, current range: {state['lower_bound']} to {state['upper_bound']}\")\n",
    "    \n",
    "    return state"
   ]
  },
  {
   "cell_type": "code",
   "execution_count": 141,
   "id": "d713b5c8",
   "metadata": {},
   "outputs": [],
   "source": [
    "def message_node(state: AgentState) -> AgentState:\n",
    "    last_guess = state['guesses'][-1]\n",
    "    print(f\"Bro {state['playerName']} guessed: {last_guess}, current range: {state['lower_bound']} to {state['upper_bound']}\")\n",
    "    if last_guess < state['guessed_number']:\n",
    "        state['message'] = f\"{state['playerName']}, your guess of {last_guess} is too low. Try again!\"\n",
    "        state['lower_bound'] = last_guess + 1\n",
    "    elif last_guess > state['guessed_number']:\n",
    "        state['message'] = f\"{state['playerName']}, your guess of {last_guess} is too high. Try again!\"\n",
    "        state['upper_bound'] = last_guess - 1\n",
    "    else:\n",
    "        state['message'] = f\"Congratulations {state['playerName']}! You guessed the number {state['guessed_number']} correctly in {state['attempts']} attempts.\"\n",
    "    return state"
   ]
  },
  {
   "cell_type": "code",
   "execution_count": 142,
   "id": "52e49a1f",
   "metadata": {},
   "outputs": [],
   "source": [
    "def should_continue_node(state: AgentState) -> str:\n",
    "    if state['guesses'][-1] == state['guessed_number']:\n",
    "        print(f\"{state['message']}\")\n",
    "        return \"True\"\n",
    "    elif state['attempts'] >= 7:\n",
    "        print(f\"{state['playerName']} has used all attempts. Game over!\")\n",
    "        return \"True\"\n",
    "    else:\n",
    "        print(f\"{state['playerName']} has {7 - state['attempts']} attempts left.\")\n",
    "        return \"False\""
   ]
  },
  {
   "cell_type": "code",
   "execution_count": 143,
   "id": "48bb3f91",
   "metadata": {},
   "outputs": [],
   "source": [
    "graph = StateGraph(AgentState)\n",
    "\n",
    "graph.add_node(\"setup\", setup_node)\n",
    "graph.add_node(\"guess\", guess_number)\n",
    "graph.add_node(\"message\", message_node)\n",
    "# graph.add_node(\"should_continue\", should_continue_node)\n",
    "\n",
    "graph.add_edge(\"setup\", \"guess\")\n",
    "graph.add_edge(\"guess\", \"message\")\n",
    "\n",
    "graph.add_conditional_edges(\n",
    "    \"message\",\n",
    "    should_continue_node, {\n",
    "        \"False\": \"guess\",\n",
    "        \"True\": END\n",
    "    }\n",
    ")\n",
    "graph.set_entry_point(\"setup\")\n",
    "\n",
    "app = graph.compile()"
   ]
  },
  {
   "cell_type": "code",
   "execution_count": 144,
   "id": "2fab0dc0",
   "metadata": {},
   "outputs": [
    {
     "data": {
      "image/png": "[encoded data removed]",
      "text/plain": [
       "<IPython.core.display.Image object>"
      ]
     },
     "metadata": {},
     "output_type": "display_data"
    }
   ],
   "source": [
    "from IPython.display import display, Image\n",
    "display(Image(app.get_graph().draw_mermaid_png(), format='png'))"
   ]
  },
  {
   "cell_type": "code",
   "execution_count": 145,
   "id": "58233369",
   "metadata": {},
   "outputs": [
    {
     "name": "stdout",
     "output_type": "stream",
     "text": [
      "Welcome Shishir! Let's play a guessing game. You have 7 attempts to guess the number I'm thinking of between 0 and 50.\n",
      "Bro Shishir guessed: 20, current range: 0 to 50\n",
      "Shishir has 6 attempts left.\n",
      "Bro Shishir guessed: 13, current range: 0 to 19\n",
      "Shishir has 5 attempts left.\n",
      "Bro Shishir guessed: 1, current range: 0 to 12\n",
      "Congratulations Shishir! You guessed the number 1 correctly in 3 attempts.\n"
     ]
    },
    {
     "data": {
      "text/plain": [
       "{'playerName': 'Shishir',\n",
       " 'guesses': [20, 13, 1],\n",
       " 'attempts': 3,\n",
       " 'lower_bound': 0,\n",
       " 'upper_bound': 12,\n",
       " 'guessed_number': 1,\n",
       " 'message': 'Congratulations Shishir! You guessed the number 1 correctly in 3 attempts.'}"
      ]
     },
     "execution_count": 145,
     "metadata": {},
     "output_type": "execute_result"
    }
   ],
   "source": [
    "app.invoke({\n",
    "    \"playerName\": \"Shishir\",\n",
    "    \"guesses\": [],\n",
    "    \"attempts\": 0,\n",
    "    \"lower_bound\": 0,\n",
    "    \"upper_bound\": 50,\n",
    "})"
   ]
  }
 ],
 "metadata": {
  "kernelspec": {
   "display_name": ".venv",
   "language": "python",
   "name": "python3"
  },
  "language_info": {
   "codemirror_mode": {
    "name": "ipython",
    "version": 3
   },
   "file_extension": ".py",
   "mimetype": "text/x-python",
   "name": "python",
   "nbconvert_exporter": "python",
   "pygments_lexer": "ipython3",
   "version": "3.11.6"
  }
 },
 "nbformat": 4,
 "nbformat_minor": 5
}

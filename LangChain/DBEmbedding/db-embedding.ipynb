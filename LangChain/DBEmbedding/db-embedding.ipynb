{
 "cells": [
  {
   "cell_type": "code",
   "execution_count": 6,
   "metadata": {},
   "outputs": [],
   "source": [
    "from langchain_community.document_loaders import PyPDFLoader\n",
    "from langchain_text_splitters import RecursiveCharacterTextSplitter\n",
    "from langchain_openai import OpenAIEmbeddings"
   ]
  },
  {
   "cell_type": "code",
   "execution_count": 7,
   "metadata": {},
   "outputs": [],
   "source": [
    "embeddings_1024 = OpenAIEmbeddings(model=\"text-embedding-3-small\", dimensions=1024)"
   ]
  },
  {
   "cell_type": "code",
   "execution_count": 8,
   "metadata": {},
   "outputs": [],
   "source": [
    "data = PyPDFLoader('../Dataingestion/JD.pdf')\n",
    "docs = data.load()"
   ]
  },
  {
   "cell_type": "code",
   "execution_count": 9,
   "metadata": {},
   "outputs": [],
   "source": [
    "textsplitters = RecursiveCharacterTextSplitter(chunk_size=500, chunk_overlap=50)\n",
    "all_docs = textsplitters.split_documents(docs)"
   ]
  },
  {
   "cell_type": "code",
   "execution_count": 10,
   "metadata": {},
   "outputs": [],
   "source": [
    "from langchain_community.vectorstores import Chroma"
   ]
  },
  {
   "cell_type": "code",
   "execution_count": 11,
   "metadata": {},
   "outputs": [
    {
     "data": {
      "text/plain": [
       "<langchain_community.vectorstores.chroma.Chroma at 0x10e117e00>"
      ]
     },
     "execution_count": 11,
     "metadata": {},
     "output_type": "execute_result"
    }
   ],
   "source": [
    "db = Chroma.from_documents(all_docs, embeddings_1024)\n",
    "db"
   ]
  },
  {
   "cell_type": "code",
   "execution_count": 12,
   "metadata": {},
   "outputs": [
    {
     "data": {
      "text/plain": [
       "[Document(metadata={'page': 1, 'source': '../Dataingestion/JD.pdf'}, page_content='edge. \\n \\n \\nMust-have skills: \\n• Generative AI Expertise: Minimum 6-8 months of hands-on experience \\nworking with Generative AI technologies, including LLMs, RAG, and Prompt \\nEngineering.  \\n• AI/ML Experience: At least 2-4 years of experience in AI/ML, with a strong \\nfocus on developing and deploying solutions on Azure or AWS.  \\n• Python Development: Proven track record of designing and implementing \\nWeb APIs and Python-based solutions at scale.'),\n",
       " Document(metadata={'page': 2, 'source': '../Dataingestion/JD.pdf'}, page_content='• Cloud Platforms: Strong experience with Azure services, including Azure \\nFunctions, App Service, and other cloud AI tools.  \\n• Problem-Solving & Innovation: Analytical mindset with the ability to design AI-\\ndriven solutions for complex challenges.  \\n• Collaboration & Communication: Excellent communication and teamwork skills \\nto effectively collaborate across diverse teams. \\n•  \\n \\n \\nNice to have skills: \\n• Experience with MLOps frameworks and workflows.'),\n",
       " Document(metadata={'page': 0, 'source': '../Dataingestion/JD.pdf'}, page_content='tools and software solutions to professionals in healthcare, legal, business, tax, \\naccounting, finance, audit, risk, and compliance. With a focus on innovation, integrates \\ndeep domain expertise with advanced AI technologies to empower professionals to \\nsolve complex problems, save lives, and drive business success in an ever-evolving \\nworld.   \\n \\n \\nAbout the role: \\nWe are on the hunt for a Senior Backend Python Engineer with a background in building'),\n",
       " Document(metadata={'page': 0, 'source': '../Dataingestion/JD.pdf'}, page_content='scalable, reusable GenAI services and a strong grasp of coding practices. This role \\nis tailored for individuals who have a knack for tackling complex problems and who are \\nlooking to grow their leadership skills within a team-focused environment. Come join us \\nand contribute to the expansion of cutting-edge AI services in a dynamic and supportive \\nworkspace. \\n \\n \\nResponsibilities:')]"
      ]
     },
     "execution_count": 12,
     "metadata": {},
     "output_type": "execute_result"
    }
   ],
   "source": [
    "query = \"key required skills\"\n",
    "\n",
    "output = db.similarity_search(query)\n",
    "\n",
    "output[0]"
   ]
  },
  {
   "cell_type": "code",
   "execution_count": 15,
   "metadata": {},
   "outputs": [
    {
     "data": {
      "text/plain": [
       "Document(metadata={'page': 1, 'source': '../Dataingestion/JD.pdf'}, page_content='edge. \\n \\n \\nMust-have skills: \\n• Generative AI Expertise: Minimum 6-8 months of hands-on experience \\nworking with Generative AI technologies, including LLMs, RAG, and Prompt \\nEngineering.  \\n• AI/ML Experience: At least 2-4 years of experience in AI/ML, with a strong \\nfocus on developing and deploying solutions on Azure or AWS.  \\n• Python Development: Proven track record of designing and implementing \\nWeb APIs and Python-based solutions at scale.')"
      ]
     },
     "execution_count": 15,
     "metadata": {},
     "output_type": "execute_result"
    }
   ],
   "source": [
    "output[0]"
   ]
  }
 ],
 "metadata": {
  "kernelspec": {
   "display_name": "virtualenv",
   "language": "python",
   "name": "python3"
  },
  "language_info": {
   "codemirror_mode": {
    "name": "ipython",
    "version": 3
   },
   "file_extension": ".py",
   "mimetype": "text/x-python",
   "name": "python",
   "nbconvert_exporter": "python",
   "pygments_lexer": "ipython3",
   "version": "3.13.0"
  }
 },
 "nbformat": 4,
 "nbformat_minor": 2
}

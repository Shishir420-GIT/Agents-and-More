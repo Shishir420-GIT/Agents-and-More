{
 "cells": [
  {
   "cell_type": "code",
   "execution_count": 1,
   "metadata": {},
   "outputs": [],
   "source": [
    "import os\n",
    "from langchain_community.document_loaders import TextLoader\n",
    "from langchain_ollama import OllamaEmbeddings\n",
    "from langchain_text_splitters import CharacterTextSplitter\n",
    "from langchain.vectorstores import FAISS"
   ]
  },
  {
   "cell_type": "code",
   "execution_count": 2,
   "metadata": {},
   "outputs": [],
   "source": [
    "loader = TextLoader('../Dataingestion/speech.txt')\n",
    "docs = loader.load()"
   ]
  },
  {
   "cell_type": "code",
   "execution_count": 3,
   "metadata": {},
   "outputs": [
    {
     "data": {
      "text/plain": [
       "[Document(metadata={'source': '../Dataingestion/speech.txt'}, page_content='Speech about Life for Students and Children\\nSpeech about Life\\nGood morning one and all present here. I am standing before you all to share my thoughts through my speech about life. Life is a continuous ongoing process that has to end someday. Life is all about adoring yourself, creating yourself. A quote for you that life can be only understood backward but it must be lived forwards. Life itself is a golden opportunity to live a meaningful life and support others to do so. It doesn’t matter how many years you live. But it matters how well you live a quality life.\\n\\nSpeech about Life\\n\\nThe fear of death always threatens our lives. Every person has to face death sooner or later, but that doesn’t mean that it should discourage us from living life to the fullest or achieving our goals. A person is wise only when he/she is ready to meet destiny when it comes, but until that time enjoys every bit of it. It is a sense of readiness. It is a journey in everyone’s life wherein we have to cross the bridge of death to be able to wake up to a life eternal.\\n\\nGet the Huge list of 100+ Speech Topics here\\n\\nHuman life – A very Precious Gift\\nHuman life is truly a very precious gift. Each moment of human life carries us an opportunity, to act to develop and express our virtues. Every moment unlocks the path to us to receive blessings. This is the truth that life gives us both positive and negative situations. What is really important is how we react.\\n\\nLife is the gift of God in the form of trust that we will make it meaningful in whatever we can. We are all unique individuals. No one is born like you and no one will ever be, so cherish your individuality. Many times, I come across people accusing God of things that they don’t have. They always cursing their lives. But, do they realize that this life itself is precious? If we make it worth living and work hard towards positivity.\\n\\nLife is a Journey, not a Destination\\nLife is nothing but a journey with lessons, hardships, heartache and special moments. It will ultimately lead us to our destination, our purpose in life. The road will not always be a plane; in fact, throughout our travels, we will face many challenges.\\n\\nThese challenges will always test our courage, strengths, weaknesses, and faith. Along our way, we may encounter obstacles that will come between the paths and we are destined to take.\\n\\nIn order to be on the right path, we must overcome these obstacles. Sometimes these obstacles are really blessings in disguise, only we don’t understand that at the time. The secret of life is best known to those who are not attached to anything deeply so much.\\n\\nTherefore, they remain out of touch with worries and shifting fortunes of their lives. They are the people who do not measure their lives in terms of materialistic possessions, but by measuring their lives in terms of people they cannot live without.\\n\\nConclusion\\nLastly, I will conclude that we should make life worthwhile. It should be with the love of our family and friends that life can be made beautiful. Life can be more beautiful and purposeful by discharging our duties in our family, at work, society and the world at large.\\n\\nThanks!')]"
      ]
     },
     "execution_count": 3,
     "metadata": {},
     "output_type": "execute_result"
    }
   ],
   "source": [
    "docs"
   ]
  },
  {
   "cell_type": "code",
   "execution_count": 4,
   "metadata": {},
   "outputs": [],
   "source": [
    "textsplitter = CharacterTextSplitter(chunk_size=1000, chunk_overlap=50)\n",
    "all_data = textsplitter.split_documents(docs)"
   ]
  },
  {
   "cell_type": "code",
   "execution_count": 5,
   "metadata": {},
   "outputs": [
    {
     "data": {
      "text/plain": [
       "[Document(metadata={'source': '../Dataingestion/speech.txt'}, page_content='Speech about Life for Students and Children\\nSpeech about Life\\nGood morning one and all present here. I am standing before you all to share my thoughts through my speech about life. Life is a continuous ongoing process that has to end someday. Life is all about adoring yourself, creating yourself. A quote for you that life can be only understood backward but it must be lived forwards. Life itself is a golden opportunity to live a meaningful life and support others to do so. It doesn’t matter how many years you live. But it matters how well you live a quality life.\\n\\nSpeech about Life'),\n",
       " Document(metadata={'source': '../Dataingestion/speech.txt'}, page_content='Speech about Life\\n\\nThe fear of death always threatens our lives. Every person has to face death sooner or later, but that doesn’t mean that it should discourage us from living life to the fullest or achieving our goals. A person is wise only when he/she is ready to meet destiny when it comes, but until that time enjoys every bit of it. It is a sense of readiness. It is a journey in everyone’s life wherein we have to cross the bridge of death to be able to wake up to a life eternal.\\n\\nGet the Huge list of 100+ Speech Topics here\\n\\nHuman life – A very Precious Gift\\nHuman life is truly a very precious gift. Each moment of human life carries us an opportunity, to act to develop and express our virtues. Every moment unlocks the path to us to receive blessings. This is the truth that life gives us both positive and negative situations. What is really important is how we react.'),\n",
       " Document(metadata={'source': '../Dataingestion/speech.txt'}, page_content='Life is the gift of God in the form of trust that we will make it meaningful in whatever we can. We are all unique individuals. No one is born like you and no one will ever be, so cherish your individuality. Many times, I come across people accusing God of things that they don’t have. They always cursing their lives. But, do they realize that this life itself is precious? If we make it worth living and work hard towards positivity.\\n\\nLife is a Journey, not a Destination\\nLife is nothing but a journey with lessons, hardships, heartache and special moments. It will ultimately lead us to our destination, our purpose in life. The road will not always be a plane; in fact, throughout our travels, we will face many challenges.\\n\\nThese challenges will always test our courage, strengths, weaknesses, and faith. Along our way, we may encounter obstacles that will come between the paths and we are destined to take.'),\n",
       " Document(metadata={'source': '../Dataingestion/speech.txt'}, page_content='In order to be on the right path, we must overcome these obstacles. Sometimes these obstacles are really blessings in disguise, only we don’t understand that at the time. The secret of life is best known to those who are not attached to anything deeply so much.\\n\\nTherefore, they remain out of touch with worries and shifting fortunes of their lives. They are the people who do not measure their lives in terms of materialistic possessions, but by measuring their lives in terms of people they cannot live without.\\n\\nConclusion\\nLastly, I will conclude that we should make life worthwhile. It should be with the love of our family and friends that life can be made beautiful. Life can be more beautiful and purposeful by discharging our duties in our family, at work, society and the world at large.\\n\\nThanks!')]"
      ]
     },
     "execution_count": 5,
     "metadata": {},
     "output_type": "execute_result"
    }
   ],
   "source": [
    "all_data"
   ]
  },
  {
   "cell_type": "code",
   "execution_count": 7,
   "metadata": {},
   "outputs": [
    {
     "data": {
      "text/plain": [
       "<langchain_community.vectorstores.faiss.FAISS at 0x10c096cf0>"
      ]
     },
     "execution_count": 7,
     "metadata": {},
     "output_type": "execute_result"
    }
   ],
   "source": [
    "embeddings = OllamaEmbeddings(model=\"gemma:2b\")\n",
    "db = FAISS.from_documents(all_data,embeddings)\n",
    "db"
   ]
  },
  {
   "cell_type": "code",
   "execution_count": 10,
   "metadata": {},
   "outputs": [
    {
     "data": {
      "text/plain": [
       "[Document(id='a1919132-9cc1-462d-b920-bf177247626d', metadata={'source': '../Dataingestion/speech.txt'}, page_content='In order to be on the right path, we must overcome these obstacles. Sometimes these obstacles are really blessings in disguise, only we don’t understand that at the time. The secret of life is best known to those who are not attached to anything deeply so much.\\n\\nTherefore, they remain out of touch with worries and shifting fortunes of their lives. They are the people who do not measure their lives in terms of materialistic possessions, but by measuring their lives in terms of people they cannot live without.\\n\\nConclusion\\nLastly, I will conclude that we should make life worthwhile. It should be with the love of our family and friends that life can be made beautiful. Life can be more beautiful and purposeful by discharging our duties in our family, at work, society and the world at large.\\n\\nThanks!'),\n",
       " Document(id='1426373e-9a26-45b3-87cd-f6897e571e97', metadata={'source': '../Dataingestion/speech.txt'}, page_content='Speech about Life\\n\\nThe fear of death always threatens our lives. Every person has to face death sooner or later, but that doesn’t mean that it should discourage us from living life to the fullest or achieving our goals. A person is wise only when he/she is ready to meet destiny when it comes, but until that time enjoys every bit of it. It is a sense of readiness. It is a journey in everyone’s life wherein we have to cross the bridge of death to be able to wake up to a life eternal.\\n\\nGet the Huge list of 100+ Speech Topics here\\n\\nHuman life – A very Precious Gift\\nHuman life is truly a very precious gift. Each moment of human life carries us an opportunity, to act to develop and express our virtues. Every moment unlocks the path to us to receive blessings. This is the truth that life gives us both positive and negative situations. What is really important is how we react.'),\n",
       " Document(id='a7bff4d8-0080-44a7-8fd6-232dcf3c8fa9', metadata={'source': '../Dataingestion/speech.txt'}, page_content='Life is the gift of God in the form of trust that we will make it meaningful in whatever we can. We are all unique individuals. No one is born like you and no one will ever be, so cherish your individuality. Many times, I come across people accusing God of things that they don’t have. They always cursing their lives. But, do they realize that this life itself is precious? If we make it worth living and work hard towards positivity.\\n\\nLife is a Journey, not a Destination\\nLife is nothing but a journey with lessons, hardships, heartache and special moments. It will ultimately lead us to our destination, our purpose in life. The road will not always be a plane; in fact, throughout our travels, we will face many challenges.\\n\\nThese challenges will always test our courage, strengths, weaknesses, and faith. Along our way, we may encounter obstacles that will come between the paths and we are destined to take.'),\n",
       " Document(id='3eb9c01e-ba7f-43d6-9333-241974e9bfea', metadata={'source': '../Dataingestion/speech.txt'}, page_content='Speech about Life for Students and Children\\nSpeech about Life\\nGood morning one and all present here. I am standing before you all to share my thoughts through my speech about life. Life is a continuous ongoing process that has to end someday. Life is all about adoring yourself, creating yourself. A quote for you that life can be only understood backward but it must be lived forwards. Life itself is a golden opportunity to live a meaningful life and support others to do so. It doesn’t matter how many years you live. But it matters how well you live a quality life.\\n\\nSpeech about Life')]"
      ]
     },
     "execution_count": 10,
     "metadata": {},
     "output_type": "execute_result"
    }
   ],
   "source": [
    "fetched_docs = db.similarity_search(\"summary\")\n",
    "fetched_docs"
   ]
  },
  {
   "cell_type": "code",
   "execution_count": 9,
   "metadata": {},
   "outputs": [
    {
     "data": {
      "text/plain": [
       "'In order to be on the right path, we must overcome these obstacles. Sometimes these obstacles are really blessings in disguise, only we don’t understand that at the time. The secret of life is best known to those who are not attached to anything deeply so much.\\n\\nTherefore, they remain out of touch with worries and shifting fortunes of their lives. They are the people who do not measure their lives in terms of materialistic possessions, but by measuring their lives in terms of people they cannot live without.\\n\\nConclusion\\nLastly, I will conclude that we should make life worthwhile. It should be with the love of our family and friends that life can be made beautiful. Life can be more beautiful and purposeful by discharging our duties in our family, at work, society and the world at large.\\n\\nThanks!'"
      ]
     },
     "execution_count": 9,
     "metadata": {},
     "output_type": "execute_result"
    }
   ],
   "source": [
    "fetched_docs[0].page_content"
   ]
  }
 ],
 "metadata": {
  "kernelspec": {
   "display_name": "virtualenv",
   "language": "python",
   "name": "python3"
  },
  "language_info": {
   "codemirror_mode": {
    "name": "ipython",
    "version": 3
   },
   "file_extension": ".py",
   "mimetype": "text/x-python",
   "name": "python",
   "nbconvert_exporter": "python",
   "pygments_lexer": "ipython3",
   "version": "3.13.0"
  }
 },
 "nbformat": 4,
 "nbformat_minor": 2
}

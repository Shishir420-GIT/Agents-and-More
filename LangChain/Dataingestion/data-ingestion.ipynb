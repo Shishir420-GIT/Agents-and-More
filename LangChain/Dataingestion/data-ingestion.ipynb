{
 "cells": [
  {
   "cell_type": "code",
   "execution_count": 9,
   "metadata": {},
   "outputs": [],
   "source": [
    "from langchain_community.document_loaders import PyPDFLoader"
   ]
  },
  {
   "cell_type": "code",
   "execution_count": 10,
   "metadata": {},
   "outputs": [
    {
     "data": {
      "text/plain": [
       "[Document(metadata={'source': 'JD.pdf', 'page': 0}, page_content='Andela exists to connect brilliance and opportunity. Since 2014, we have been \\ndedicated to breaking down global barriers and accelerating the future of work for both \\ntechnologists and organizations around the world. For technologists, Andela offers \\ncompetitive long-term career opportunities with leading organizations, access to a \\nglobal community of professionals, and educational opportunities with leading \\ntechnology providers. \\n \\nAt Andela, we’re deeply passionate about creating long-lasting and transformative \\ngrowth opportunities for all - and doing it in an E.P.I.C. way! We’re excited to continue \\nbuilding our remote-first team with incredible people like you. After applying for this \\nrole, you will join our Andela Community of brilliant technologists by passing a \\ntechnical screening and live interview. As a community member, you’ll have access to a \\nmultitude of exclusive technologist roles. Join Andela today to access this opportunity \\nand more in our global marketplace! \\nOur roles are typically filled at lightning speed, so if you’re considering applying, get \\nyour application in quickly! \\n \\nThis is a fully remote opportunity for one of our esteemed clients. \\n \\n \\n \\nAbout the client: \\nOur client is a global leader in professional information services, delivering essential \\ntools and software solutions to professionals in healthcare, legal, business, tax, \\naccounting, finance, audit, risk, and compliance. With a focus on innovation, integrates \\ndeep domain expertise with advanced AI technologies to empower professionals to \\nsolve complex problems, save lives, and drive business success in an ever-evolving \\nworld.   \\n \\n \\nAbout the role: \\nWe are on the hunt for a Senior Backend Python Engineer with a background in building \\nscalable, reusable GenAI services and a strong grasp of coding practices. This role \\nis tailored for individuals who have a knack for tackling complex problems and who are \\nlooking to grow their leadership skills within a team-focused environment. Come join us \\nand contribute to the expansion of cutting-edge AI services in a dynamic and supportive \\nworkspace. \\n \\n \\nResponsibilities: '),\n",
       " Document(metadata={'source': 'JD.pdf', 'page': 1}, page_content='• AI Solutions Development: Design and implement cutting-edge solutions \\nleveraging Generative AI, including LLMs, RAG, and Prompt Engineering, to \\naddress real-world challenges.  \\n• Web API Development: Build scalable, secure, and high-performance Web \\nAPIs using Python, with seamless AI integrations.  \\n• Custom Python SDKs: Create robust Python SDKs to enable clients and teams \\nto utilize AI-powered capabilities effectively, ensuring compliance with SDLC \\nbest practices.  \\n• Azure AI Deployments: Develop, deploy, and manage AI-driven applications on \\nAzure, utilizing services like Azure Functions, App Service, and cloud-based AI \\ntools.  \\n• Performance Optimization: Ensure the quality, scalability, and efficiency of \\napplications by addressing performance bottlenecks and enhancing \\nresponsiveness.  \\n• AI Integration: Integrate and fine-tune AI endpoints and models for natural \\nlanguage processing, data enrichment, and intelligent automation.  \\n• Cross-Functional Collaboration: Collaborate with data scientists, AI \\nresearchers, and product teams to define and deliver innovative AI solutions.  \\n• Documentation & Knowledge Sharing: Document processes, configurations, \\nand best practices for AI and Python development to ensure clarity and \\nscalability for future projects.  \\n• Industry Leadership: Stay informed about emerging trends and technologies in \\nGenerative AI, Python, and cloud-based AI solutions to maintain a competitive \\nedge. \\n \\n \\nMust-have skills: \\n• Generative AI Expertise: Minimum 6-8 months of hands-on experience \\nworking with Generative AI technologies, including LLMs, RAG, and Prompt \\nEngineering.  \\n• AI/ML Experience: At least 2-4 years of experience in AI/ML, with a strong \\nfocus on developing and deploying solutions on Azure or AWS.  \\n• Python Development: Proven track record of designing and implementing \\nWeb APIs and Python-based solutions at scale.  \\n• SDK Development: Experience in creating and maintaining Python SDKs as \\npart of full-lifecycle development processes.  \\n• Core Skills:  \\n• Python Proficiency: Deep expertise in Python for building maintainable, \\nefficient, and scalable applications.  \\n• AI Technologies: Hands-on experience with deploying, fine-tuning, and \\nconsuming AI models and endpoints.  '),\n",
       " Document(metadata={'source': 'JD.pdf', 'page': 2}, page_content=\"• Cloud Platforms: Strong experience with Azure services, including Azure \\nFunctions, App Service, and other cloud AI tools.  \\n• Problem-Solving & Innovation: Analytical mindset with the ability to design AI-\\ndriven solutions for complex challenges.  \\n• Collaboration & Communication: Excellent communication and teamwork skills \\nto effectively collaborate across diverse teams. \\n•  \\n \\n \\nNice to have skills: \\n• Experience with MLOps frameworks and workflows.  \\n• Familiarity with AI frameworks like TensorFlow, PyTorch, or Hugging Face.  \\n• Knowledge of deploying and scaling AI models in production environments. \\n \\n \\n \\n \\nType of contract: Contractor. You will be responsible for your taxes. Salary will be \\nfacilitated through a Payment platform. This platform provides various mechanisms for \\ntransferring funds to your local bank account or through services like Payoneer, \\nCadana, etc. You'll be responsible for managing your taxes. \\nContract length: 6-months (minimum, renewable depending on client's budget and \\ntalent’s performance) \\nDedication: Full-time (40 hours/week)  \\nLocation: 100% remote \\nTimezone: At least 5 hours of overlap with EST (from 9 am to 2 pm EST). \\n \\n \\nAt Andela, we outcompete through diversity. We know that our strengths lie in the \\nmultiplicity of talents, perspectives, backgrounds, and orientations of residents in our \\ncommunity and we take pride in that. Andela is committed to a work environment in \\nwhich all individuals are treated with respect and dignity. Each individual has the right \\nto work in a professional atmosphere that promotes equal employment opportunities \\nand prohibits discriminatory practices. Andela provides equal employment \\nopportunities and workplace to all employees and applicants without regard to factors \\nincluding but not limited to race, color, religion, gender, sexual orientation, gender \\nidentity, national origin, age, disability, pregnancy (including breastfeeding), genetic \\ninformation, HIV/AIDS or any other medical status, family or parental status, marital \\nstatus, amnesty or status as a covered veteran in accordance with applicable federal, \\nstate and local laws. This commitment applies to all terms and conditions of \"),\n",
       " Document(metadata={'source': 'JD.pdf', 'page': 3}, page_content='employment, including but not limited to hiring, placement, promotion, termination, \\nlayoff, recall, transfer, leaves of absence, compensation, and training. Our policies \\nexpressly prohibit harassment and/or discrimination as stated above. \\n \\nAndela is home for all, come as you are. \\n ')]"
      ]
     },
     "execution_count": 10,
     "metadata": {},
     "output_type": "execute_result"
    }
   ],
   "source": [
    "data2 = PyPDFLoader('JD.pdf')\n",
    "data2.load()"
   ]
  },
  {
   "cell_type": "code",
   "execution_count": 15,
   "metadata": {},
   "outputs": [],
   "source": [
    "from langchain_community.document_loaders import WebBaseLoader\n",
    "import bs4"
   ]
  },
  {
   "cell_type": "code",
   "execution_count": 16,
   "metadata": {},
   "outputs": [
    {
     "data": {
      "text/plain": [
       "[Document(metadata={'source': 'https://python.langchain.com/docs/introduction/'}, page_content='Introduction\\nLangChain is a framework for developing applications powered by large language models (LLMs).\\nLangChain simplifies every stage of the LLM application lifecycle:\\n\\nDevelopment: Build your applications using LangChain\\'s open-source components and third-party integrations.\\nUse LangGraph to build stateful agents with first-class streaming and human-in-the-loop support.\\nProductionization: Use LangSmith to inspect, monitor and evaluate your applications, so that you can continuously optimize and deploy with confidence.\\nDeployment: Turn your LangGraph applications into production-ready APIs and Assistants with LangGraph Platform.\\n\\n\\n\\nLangChain implements a standard interface for large language models and related\\ntechnologies, such as embedding models and vector stores, and integrates with\\nhundreds of providers. See the integrations page for\\nmore.\\n\\nSelect chat model:OpenAI▾OpenAIAnthropicAzureGoogleAWSCohereNVIDIAFireworks AIGroqMistral AITogether AIDatabrickspip install -qU langchain-openaiimport getpassimport osif not os.environ.get(\"OPENAI_API_KEY\"):  os.environ[\"OPENAI_API_KEY\"] = getpass.getpass(\"Enter API key for OpenAI: \")from langchain_openai import ChatOpenAImodel = ChatOpenAI(model=\"gpt-4o-mini\")\\nmodel.invoke(\"Hello, world!\")\\nnoteThese docs focus on the Python LangChain library. Head here for docs on the JavaScript LangChain library.\\nArchitecture\\u200b\\nThe LangChain framework consists of multiple open-source libraries. Read more in the\\nArchitecture page.\\n\\nlangchain-core: Base abstractions for chat models and other components.\\nIntegration packages (e.g. langchain-openai, langchain-anthropic, etc.): Important integrations have been split into lightweight packages that are co-maintained by the LangChain team and the integration developers.\\nlangchain: Chains, agents, and retrieval strategies that make up an application\\'s cognitive architecture.\\nlangchain-community: Third-party integrations that are community maintained.\\nlanggraph: Orchestration framework for combining LangChain components into production-ready applications with persistence, streaming, and other key features. See LangGraph documentation.\\n\\nGuides\\u200b\\nTutorials\\u200b\\nIf you\\'re looking to build something specific or are more of a hands-on learner, check out our tutorials section.\\nThis is the best place to get started.\\nThese are the best ones to get started with:\\n\\nBuild a Simple LLM Application\\nBuild a Chatbot\\nBuild an Agent\\nIntroduction to LangGraph\\n\\nExplore the full list of LangChain tutorials here, and check out other LangGraph tutorials here. To learn more about LangGraph, check out our first LangChain Academy course, Introduction to LangGraph, available here.\\nHow-to guides\\u200b\\nHere you’ll find short answers to “How do I….?” types of questions.\\nThese how-to guides don’t cover topics in depth – you’ll find that material in the Tutorials and the API Reference.\\nHowever, these guides will help you quickly accomplish common tasks using chat models,\\nvector stores, and other common LangChain components.\\nCheck out LangGraph-specific how-tos here.\\nConceptual guide\\u200b\\nIntroductions to all the key parts of LangChain you’ll need to know! Here you\\'ll find high level explanations of all LangChain concepts.\\nFor a deeper dive into LangGraph concepts, check out this page.\\nIntegrations\\u200b\\nLangChain is part of a rich ecosystem of tools that integrate with our framework and build on top of it.\\nIf you\\'re looking to get up and running quickly with chat models, vector stores,\\nor other LangChain components from a specific provider, check out our growing list of integrations.\\nAPI reference\\u200b\\nHead to the reference section for full documentation of all classes and methods in the LangChain Python packages.\\nEcosystem\\u200b\\n🦜🛠️ LangSmith\\u200b\\nTrace and evaluate your language model applications and intelligent agents to help you move from prototype to production.\\n🦜🕸️ LangGraph\\u200b\\nBuild stateful, multi-actor applications with LLMs. Integrates smoothly with LangChain, but can be used without it.\\nAdditional resources\\u200b\\nVersions\\u200b\\nSee what changed in v0.3, learn how to migrate legacy code, read up on our versioning policies, and more.\\nSecurity\\u200b\\nRead up on security best practices to make sure you\\'re developing safely with LangChain.\\nContributing\\u200b\\nCheck out the developer\\'s guide for guidelines on contributing and help getting your dev environment set up.')]"
      ]
     },
     "execution_count": 16,
     "metadata": {},
     "output_type": "execute_result"
    }
   ],
   "source": [
    "data3 = WebBaseLoader('https://python.langchain.com/docs/introduction/',\n",
    "                      bs_kwargs=dict(parse_only=bs4.SoupStrainer(\n",
    "                          class_=(\"theme-doc-markdown markdown\")\n",
    "                      )))\n",
    "data3.load()"
   ]
  },
  {
   "cell_type": "code",
   "execution_count": null,
   "metadata": {},
   "outputs": [],
   "source": [
    "from langchain_community.document_loaders import TextLoader"
   ]
  },
  {
   "cell_type": "code",
   "execution_count": 7,
   "metadata": {},
   "outputs": [
    {
     "data": {
      "text/plain": [
       "[Document(metadata={'source': 'speech.txt'}, page_content='Speech about Life for Students and Children\\nSpeech about Life\\nGood morning one and all present here. I am standing before you all to share my thoughts through my speech about life. Life is a continuous ongoing process that has to end someday. Life is all about adoring yourself, creating yourself. A quote for you that life can be only understood backward but it must be lived forwards. Life itself is a golden opportunity to live a meaningful life and support others to do so. It doesn’t matter how many years you live. But it matters how well you live a quality life.\\n\\nSpeech about Life\\n\\nThe fear of death always threatens our lives. Every person has to face death sooner or later, but that doesn’t mean that it should discourage us from living life to the fullest or achieving our goals. A person is wise only when he/she is ready to meet destiny when it comes, but until that time enjoys every bit of it. It is a sense of readiness. It is a journey in everyone’s life wherein we have to cross the bridge of death to be able to wake up to a life eternal.\\n\\nGet the Huge list of 100+ Speech Topics here\\n\\nHuman life – A very Precious Gift\\nHuman life is truly a very precious gift. Each moment of human life carries us an opportunity, to act to develop and express our virtues. Every moment unlocks the path to us to receive blessings. This is the truth that life gives us both positive and negative situations. What is really important is how we react.\\n\\nLife is the gift of God in the form of trust that we will make it meaningful in whatever we can. We are all unique individuals. No one is born like you and no one will ever be, so cherish your individuality. Many times, I come across people accusing God of things that they don’t have. They always cursing their lives. But, do they realize that this life itself is precious? If we make it worth living and work hard towards positivity.\\n\\nLife is a Journey, not a Destination\\nLife is nothing but a journey with lessons, hardships, heartache and special moments. It will ultimately lead us to our destination, our purpose in life. The road will not always be a plane; in fact, throughout our travels, we will face many challenges.\\n\\nThese challenges will always test our courage, strengths, weaknesses, and faith. Along our way, we may encounter obstacles that will come between the paths and we are destined to take.\\n\\nIn order to be on the right path, we must overcome these obstacles. Sometimes these obstacles are really blessings in disguise, only we don’t understand that at the time. The secret of life is best known to those who are not attached to anything deeply so much.\\n\\nTherefore, they remain out of touch with worries and shifting fortunes of their lives. They are the people who do not measure their lives in terms of materialistic possessions, but by measuring their lives in terms of people they cannot live without.\\n\\nConclusion\\nLastly, I will conclude that we should make life worthwhile. It should be with the love of our family and friends that life can be made beautiful. Life can be more beautiful and purposeful by discharging our duties in our family, at work, society and the world at large.\\n\\nThanks!')]"
      ]
     },
     "execution_count": 7,
     "metadata": {},
     "output_type": "execute_result"
    }
   ],
   "source": [
    "data = TextLoader('speech.txt')\n",
    "data.load()"
   ]
  }
 ],
 "metadata": {
  "kernelspec": {
   "display_name": "virtualenv",
   "language": "python",
   "name": "python3"
  },
  "language_info": {
   "codemirror_mode": {
    "name": "ipython",
    "version": 3
   },
   "file_extension": ".py",
   "mimetype": "text/x-python",
   "name": "python",
   "nbconvert_exporter": "python",
   "pygments_lexer": "ipython3",
   "version": "3.13.0"
  }
 },
 "nbformat": 4,
 "nbformat_minor": 2
}

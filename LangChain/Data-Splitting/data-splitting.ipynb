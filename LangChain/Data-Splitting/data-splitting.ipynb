{
 "cells": [
  {
   "cell_type": "code",
   "execution_count": 4,
   "metadata": {},
   "outputs": [],
   "source": [
    "from langchain_text_splitters import RecursiveCharacterTextSplitter\n",
    "from langchain_community.document_loaders import PyPDFLoader"
   ]
  },
  {
   "cell_type": "code",
   "execution_count": 8,
   "metadata": {},
   "outputs": [],
   "source": [
    "data = PyPDFLoader('../Dataingestion/JD.pdf')\n",
    "docs = data.load()"
   ]
  },
  {
   "cell_type": "code",
   "execution_count": 10,
   "metadata": {},
   "outputs": [
    {
     "data": {
      "text/plain": [
       "[Document(metadata={'source': '../Dataingestion/JD.pdf', 'page': 0}, page_content='Andela exists to connect brilliance and opportunity. Since 2014, we have been \\ndedicated to breaking down global barriers and accelerating the future of work for both \\ntechnologists and organizations around the world. For technologists, Andela offers \\ncompetitive long-term career opportunities with leading organizations, access to a \\nglobal community of professionals, and educational opportunities with leading \\ntechnology providers.'),\n",
       " Document(metadata={'source': '../Dataingestion/JD.pdf', 'page': 0}, page_content='technology providers. \\n \\nAt Andela, we’re deeply passionate about creating long-lasting and transformative \\ngrowth opportunities for all - and doing it in an E.P.I.C. way! We’re excited to continue \\nbuilding our remote-first team with incredible people like you. After applying for this \\nrole, you will join our Andela Community of brilliant technologists by passing a \\ntechnical screening and live interview. As a community member, you’ll have access to a'),\n",
       " Document(metadata={'source': '../Dataingestion/JD.pdf', 'page': 0}, page_content='multitude of exclusive technologist roles. Join Andela today to access this opportunity \\nand more in our global marketplace! \\nOur roles are typically filled at lightning speed, so if you’re considering applying, get \\nyour application in quickly! \\n \\nThis is a fully remote opportunity for one of our esteemed clients. \\n \\n \\n \\nAbout the client: \\nOur client is a global leader in professional information services, delivering essential'),\n",
       " Document(metadata={'source': '../Dataingestion/JD.pdf', 'page': 0}, page_content='tools and software solutions to professionals in healthcare, legal, business, tax, \\naccounting, finance, audit, risk, and compliance. With a focus on innovation, integrates \\ndeep domain expertise with advanced AI technologies to empower professionals to \\nsolve complex problems, save lives, and drive business success in an ever-evolving \\nworld.   \\n \\n \\nAbout the role: \\nWe are on the hunt for a Senior Backend Python Engineer with a background in building'),\n",
       " Document(metadata={'source': '../Dataingestion/JD.pdf', 'page': 0}, page_content='scalable, reusable GenAI services and a strong grasp of coding practices. This role \\nis tailored for individuals who have a knack for tackling complex problems and who are \\nlooking to grow their leadership skills within a team-focused environment. Come join us \\nand contribute to the expansion of cutting-edge AI services in a dynamic and supportive \\nworkspace. \\n \\n \\nResponsibilities:'),\n",
       " Document(metadata={'source': '../Dataingestion/JD.pdf', 'page': 1}, page_content='• AI Solutions Development: Design and implement cutting-edge solutions \\nleveraging Generative AI, including LLMs, RAG, and Prompt Engineering, to \\naddress real-world challenges.  \\n• Web API Development: Build scalable, secure, and high-performance Web \\nAPIs using Python, with seamless AI integrations.  \\n• Custom Python SDKs: Create robust Python SDKs to enable clients and teams \\nto utilize AI-powered capabilities effectively, ensuring compliance with SDLC \\nbest practices.'),\n",
       " Document(metadata={'source': '../Dataingestion/JD.pdf', 'page': 1}, page_content='best practices.  \\n• Azure AI Deployments: Develop, deploy, and manage AI-driven applications on \\nAzure, utilizing services like Azure Functions, App Service, and cloud-based AI \\ntools.  \\n• Performance Optimization: Ensure the quality, scalability, and efficiency of \\napplications by addressing performance bottlenecks and enhancing \\nresponsiveness.  \\n• AI Integration: Integrate and fine-tune AI endpoints and models for natural \\nlanguage processing, data enrichment, and intelligent automation.'),\n",
       " Document(metadata={'source': '../Dataingestion/JD.pdf', 'page': 1}, page_content='• Cross-Functional Collaboration: Collaborate with data scientists, AI \\nresearchers, and product teams to define and deliver innovative AI solutions.  \\n• Documentation & Knowledge Sharing: Document processes, configurations, \\nand best practices for AI and Python development to ensure clarity and \\nscalability for future projects.  \\n• Industry Leadership: Stay informed about emerging trends and technologies in \\nGenerative AI, Python, and cloud-based AI solutions to maintain a competitive \\nedge.'),\n",
       " Document(metadata={'source': '../Dataingestion/JD.pdf', 'page': 1}, page_content='edge. \\n \\n \\nMust-have skills: \\n• Generative AI Expertise: Minimum 6-8 months of hands-on experience \\nworking with Generative AI technologies, including LLMs, RAG, and Prompt \\nEngineering.  \\n• AI/ML Experience: At least 2-4 years of experience in AI/ML, with a strong \\nfocus on developing and deploying solutions on Azure or AWS.  \\n• Python Development: Proven track record of designing and implementing \\nWeb APIs and Python-based solutions at scale.'),\n",
       " Document(metadata={'source': '../Dataingestion/JD.pdf', 'page': 1}, page_content='Web APIs and Python-based solutions at scale.  \\n• SDK Development: Experience in creating and maintaining Python SDKs as \\npart of full-lifecycle development processes.  \\n• Core Skills:  \\n• Python Proficiency: Deep expertise in Python for building maintainable, \\nefficient, and scalable applications.  \\n• AI Technologies: Hands-on experience with deploying, fine-tuning, and \\nconsuming AI models and endpoints.'),\n",
       " Document(metadata={'source': '../Dataingestion/JD.pdf', 'page': 2}, page_content='• Cloud Platforms: Strong experience with Azure services, including Azure \\nFunctions, App Service, and other cloud AI tools.  \\n• Problem-Solving & Innovation: Analytical mindset with the ability to design AI-\\ndriven solutions for complex challenges.  \\n• Collaboration & Communication: Excellent communication and teamwork skills \\nto effectively collaborate across diverse teams. \\n•  \\n \\n \\nNice to have skills: \\n• Experience with MLOps frameworks and workflows.'),\n",
       " Document(metadata={'source': '../Dataingestion/JD.pdf', 'page': 2}, page_content=\"• Familiarity with AI frameworks like TensorFlow, PyTorch, or Hugging Face.  \\n• Knowledge of deploying and scaling AI models in production environments. \\n \\n \\n \\n \\nType of contract: Contractor. You will be responsible for your taxes. Salary will be \\nfacilitated through a Payment platform. This platform provides various mechanisms for \\ntransferring funds to your local bank account or through services like Payoneer, \\nCadana, etc. You'll be responsible for managing your taxes.\"),\n",
       " Document(metadata={'source': '../Dataingestion/JD.pdf', 'page': 2}, page_content=\"Contract length: 6-months (minimum, renewable depending on client's budget and \\ntalent’s performance) \\nDedication: Full-time (40 hours/week)  \\nLocation: 100% remote \\nTimezone: At least 5 hours of overlap with EST (from 9 am to 2 pm EST). \\n \\n \\nAt Andela, we outcompete through diversity. We know that our strengths lie in the \\nmultiplicity of talents, perspectives, backgrounds, and orientations of residents in our \\ncommunity and we take pride in that. Andela is committed to a work environment in\"),\n",
       " Document(metadata={'source': '../Dataingestion/JD.pdf', 'page': 2}, page_content='which all individuals are treated with respect and dignity. Each individual has the right \\nto work in a professional atmosphere that promotes equal employment opportunities \\nand prohibits discriminatory practices. Andela provides equal employment \\nopportunities and workplace to all employees and applicants without regard to factors \\nincluding but not limited to race, color, religion, gender, sexual orientation, gender'),\n",
       " Document(metadata={'source': '../Dataingestion/JD.pdf', 'page': 2}, page_content='identity, national origin, age, disability, pregnancy (including breastfeeding), genetic \\ninformation, HIV/AIDS or any other medical status, family or parental status, marital \\nstatus, amnesty or status as a covered veteran in accordance with applicable federal, \\nstate and local laws. This commitment applies to all terms and conditions of'),\n",
       " Document(metadata={'source': '../Dataingestion/JD.pdf', 'page': 3}, page_content='employment, including but not limited to hiring, placement, promotion, termination, \\nlayoff, recall, transfer, leaves of absence, compensation, and training. Our policies \\nexpressly prohibit harassment and/or discrimination as stated above. \\n \\nAndela is home for all, come as you are.')]"
      ]
     },
     "execution_count": 10,
     "metadata": {},
     "output_type": "execute_result"
    }
   ],
   "source": [
    "textsplitters = RecursiveCharacterTextSplitter(chunk_size=500, chunk_overlap=50)\n",
    "textsplitters.split_documents(docs)"
   ]
  },
  {
   "cell_type": "code",
   "execution_count": 2,
   "metadata": {},
   "outputs": [
    {
     "ename": "NameError",
     "evalue": "name 'data' is not defined",
     "output_type": "error",
     "traceback": [
      "\u001b[0;31m---------------------------------------------------------------------------\u001b[0m",
      "\u001b[0;31mNameError\u001b[0m                                 Traceback (most recent call last)",
      "Cell \u001b[0;32mIn[2], line 1\u001b[0m\n\u001b[0;32m----> 1\u001b[0m \u001b[43mdata\u001b[49m\n",
      "\u001b[0;31mNameError\u001b[0m: name 'data' is not defined"
     ]
    }
   ],
   "source": [
    "data"
   ]
  }
 ],
 "metadata": {
  "kernelspec": {
   "display_name": "virtualenv",
   "language": "python",
   "name": "python3"
  },
  "language_info": {
   "codemirror_mode": {
    "name": "ipython",
    "version": 3
   },
   "file_extension": ".py",
   "mimetype": "text/x-python",
   "name": "python",
   "nbconvert_exporter": "python",
   "pygments_lexer": "ipython3",
   "version": "3.13.0"
  }
 },
 "nbformat": 4,
 "nbformat_minor": 2
}
